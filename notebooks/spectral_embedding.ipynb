{
 "cells": [
  {
   "cell_type": "markdown",
   "metadata": {},
   "source": [
    "# Spectral Embedding - Fashion MNIST"
   ]
  },
  {
   "cell_type": "markdown",
   "metadata": {},
   "source": [
    "## 1. Importaciones"
   ]
  },
  {
   "cell_type": "code",
   "execution_count": null,
   "metadata": {},
   "outputs": [],
   "source": [
    "import pandas as pd\n",
    "import matplotlib\n",
    "import os\n",
    "\n",
    "matplotlib.use(\"TkAgg\")\n",
    "import matplotlib.pyplot as plt\n",
    "import matplotlib.image as mpimg\n",
    "import gdown\n",
    "import numpy as np\n",
    "import struct\n",
    "from sklearn.preprocessing import MinMaxScaler\n",
    "from sklearn.svm import SVC\n",
    "from sklearn.linear_model import LogisticRegression\n",
    "from sklearn.ensemble import RandomForestClassifier\n",
    "from sklearn.neighbors import KNeighborsClassifier\n",
    "from sklearn.metrics import (\n",
    "    accuracy_score,\n",
    "    precision_score,\n",
    "    recall_score,\n",
    "    f1_score,\n",
    "    confusion_matrix,\n",
    "    ConfusionMatrixDisplay,\n",
    ")\n",
    "from sklearn.manifold import SpectralEmbedding\n",
    "from sklearn.base import BaseEstimator, TransformerMixin\n",
    "from sklearn.neighbors import NearestNeighbors"
   ]
  },
  {
   "cell_type": "markdown",
   "metadata": {},
   "source": [
    "## 2. Clase SpectralEmbeddingTransformer"
   ]
  },
  {
   "cell_type": "code",
   "execution_count": null,
   "metadata": {},
   "outputs": [],
   "source": [
    "class SpectralEmbeddingTransformer(BaseEstimator, TransformerMixin):\n",
    "    def __init__(\n",
    "        self,\n",
    "        n_components=2,\n",
    "        n_neighbors=5,\n",
    "        affinity=\"nearest_neighbors\",\n",
    "        gamma=None,\n",
    "        random_state=42,\n",
    "    ):\n",
    "        self.n_components = n_components\n",
    "        self.n_neighbors = n_neighbors\n",
    "        self.affinity = affinity\n",
    "        self.gamma = gamma\n",
    "        self.random_state = random_state\n",
    "\n",
    "    def fit(self, X, y=None):\n",
    "        se = SpectralEmbedding(\n",
    "            n_components=self.n_components,\n",
    "            affinity=self.affinity,\n",
    "            n_neighbors=self.n_neighbors,\n",
    "            gamma=self.gamma,\n",
    "            random_state=self.random_state,\n",
    "            eigen_solver=\"arpack\",\n",
    "            n_jobs=-1,\n",
    "        )\n",
    "\n",
    "        self.embedding_ = se.fit_transform(X)\n",
    "        self.X_train_ = X\n",
    "\n",
    "        self.knn_ = NearestNeighbors(\n",
    "            n_neighbors=min(self.n_neighbors, X.shape[0] - 1),\n",
    "            algorithm=\"auto\",\n",
    "            n_jobs=-1,\n",
    "        )\n",
    "        self.knn_.fit(X)\n",
    "\n",
    "        return self\n",
    "\n",
    "    def transform(self, X):\n",
    "        distances, indices = self.knn_.kneighbors(X)\n",
    "        distances = distances + 1e-10\n",
    "\n",
    "        weights = 1.0 / distances\n",
    "        weights /= weights.sum(axis=1, keepdims=True)\n",
    "\n",
    "        X_transformed = np.zeros((X.shape[0], self.n_components))\n",
    "        for i, neighbor_indices in enumerate(indices):\n",
    "            X_transformed[i] = np.average(\n",
    "                self.embedding_[neighbor_indices], axis=0, weights=weights[i]\n",
    "            )\n",
    "\n",
    "        return X_transformed"
   ]
  },
  {
   "cell_type": "markdown",
   "metadata": {},
   "source": [
    "## 3. Funciones de Carga de Datos"
   ]
  },
  {
   "cell_type": "code",
   "execution_count": null,
   "metadata": {},
   "outputs": [],
   "source": [
    "def download_data(file_id, name_file):\n",
    "    url = f\"https://drive.google.com/uc?id={file_id}\"\n",
    "    gdown.download(url, name_file, quiet=False)\n",
    "    return name_file\n",
    "\n",
    "\n",
    "def read_labels(file_path):\n",
    "    class_names = {\n",
    "        0: \"T-shirt/top\",\n",
    "        1: \"Trouser\",\n",
    "        2: \"Pullover\",\n",
    "        3: \"Dress\",\n",
    "        4: \"Coat\",\n",
    "        5: \"Sandal\",\n",
    "        6: \"Shirt\",\n",
    "        7: \"Sneaker\",\n",
    "        8: \"Bag\",\n",
    "        9: \"Ankle boot\",\n",
    "    }\n",
    "\n",
    "    with open(file_path, \"rb\") as f:\n",
    "        magic, num_labels = struct.unpack(\">II\", f.read(8))\n",
    "        labels = np.frombuffer(f.read(), dtype=np.uint8)\n",
    "    df = pd.DataFrame(labels, columns=[\"label\"])\n",
    "    df[\"class_name\"] = df[\"label\"].map(class_names)\n",
    "    return df\n",
    "\n",
    "\n",
    "def extrar_feature_images(file_path):\n",
    "    with open(file_path, \"rb\") as f:\n",
    "        magic, num_images, rows, cols = struct.unpack(\">IIII\", f.read(16))\n",
    "        print(\"Número de imágenes:\", num_images)\n",
    "        print(\"Dimensiones de cada imagen:\", rows, \"x\", cols)\n",
    "        image_data = np.frombuffer(f.read(), dtype=np.uint8)\n",
    "        images = image_data.reshape(num_images, rows, cols)\n",
    "        X = images.reshape(num_images, rows * cols)\n",
    "        print(\"Forma de la matriz final:\", X.shape)\n",
    "    return X\n",
    "\n",
    "\n",
    "def cargar_datos_locales(train_X_path, test_X_path, train_Y_path, test_Y_path):\n",
    "    train_X = extrar_feature_images(train_X_path)\n",
    "    test_X = extrar_feature_images(test_X_path)\n",
    "    train_Y = read_labels(train_Y_path)\n",
    "    test_Y = read_labels(test_Y_path)\n",
    "\n",
    "    return train_X, test_X, train_Y, test_Y"
   ]
  },
  {
   "cell_type": "markdown",
   "metadata": {},
   "source": [
    "## 4. Funciones de Visualización"
   ]
  },
  {
   "cell_type": "code",
   "execution_count": null,
   "metadata": {},
   "outputs": [],
   "source": [
    "def Show_Image(X, nro_imagen):\n",
    "    img = X[nro_imagen].reshape(28, 28)\n",
    "    plt.imshow(img, cmap=\"gray\")\n",
    "    plt.title(f\"Imagen #{nro_imagen}\")\n",
    "    plt.axis(\"off\")\n",
    "    plt.show()\n",
    "\n",
    "\n",
    "def visualizar_reduccion_2d(X_reduced, y, metodo_nombre, class_names_dict):\n",
    "    plt.figure(figsize=(12, 10))\n",
    "\n",
    "    for clase in np.unique(y):\n",
    "        indices = y == clase\n",
    "        plt.scatter(\n",
    "            X_reduced[indices, 0],\n",
    "            X_reduced[indices, 1],\n",
    "            label=class_names_dict[clase],\n",
    "            alpha=0.6,\n",
    "            s=20,\n",
    "        )\n",
    "\n",
    "    plt.xlabel(\"Componente 1\")\n",
    "    plt.ylabel(\"Componente 2\")\n",
    "    plt.title(f\"Visualización 2D - {metodo_nombre}\")\n",
    "    plt.legend(bbox_to_anchor=(1.05, 1), loc=\"upper left\")\n",
    "    plt.tight_layout()\n",
    "    plt.show()"
   ]
  },
  {
   "cell_type": "markdown",
   "metadata": {},
   "source": [
    "## 5. Funciones de Preprocesamiento"
   ]
  },
  {
   "cell_type": "code",
   "execution_count": null,
   "metadata": {},
   "outputs": [],
   "source": [
    "def normalize_train(x):\n",
    "    scaler = MinMaxScaler()\n",
    "    x_norm = scaler.fit_transform(x)\n",
    "    return x_norm, scaler\n",
    "\n",
    "\n",
    "def normalize_test(x, scaler):\n",
    "    x_norm = scaler.transform(x)\n",
    "    return x_norm\n",
    "\n",
    "\n",
    "def addBias(x):\n",
    "    return np.column_stack([np.ones(x.shape[0]), x])"
   ]
  },
  {
   "cell_type": "markdown",
   "metadata": {},
   "source": [
    "## 6. Función de Spectral Embedding"
   ]
  },
  {
   "cell_type": "code",
   "execution_count": null,
   "metadata": {},
   "outputs": [],
   "source": [
    "def spectral_embedding(\n",
    "    X,\n",
    "    n_components=2,\n",
    "    n_neighbors=10,\n",
    "    affinity=\"nearest_neighbors\",\n",
    "    gamma=None,\n",
    "    random_state=42,\n",
    "    eigen_solver=\"arpack\",\n",
    "    n_jobs=-1,\n",
    "):\n",
    "    se = SpectralEmbedding(\n",
    "        n_components=n_components,\n",
    "        affinity=affinity,\n",
    "        n_neighbors=n_neighbors,\n",
    "        gamma=gamma,\n",
    "        random_state=random_state,\n",
    "        eigen_solver=eigen_solver,\n",
    "        n_jobs=n_jobs,\n",
    "    )\n",
    "\n",
    "    X_embedded = se.fit_transform(X)\n",
    "\n",
    "    return X_embedded"
   ]
  },
  {
   "cell_type": "markdown",
   "metadata": {},
   "source": [
    "## 7. Funciones de Evaluación"
   ]
  },
  {
   "cell_type": "code",
   "execution_count": null,
   "metadata": {},
   "outputs": [],
   "source": [
    "def generar_matriz_confusion(\n",
    "    y_true, y_pred, modelo_nombre, class_names=None, save_path=None\n",
    "):\n",
    "    cm = confusion_matrix(y_true, y_pred)\n",
    "    cm_normalized = cm.astype(\"float\") / cm.sum(axis=1)[:, np.newaxis]\n",
    "\n",
    "    disp = ConfusionMatrixDisplay(\n",
    "        confusion_matrix=cm_normalized, display_labels=class_names\n",
    "    )\n",
    "    fig, ax = plt.subplots(figsize=(10, 10))\n",
    "    disp.plot(ax=ax, cmap=\"Blues\", values_format=\".2f\")\n",
    "    plt.title(f\"Matriz de Confusión - {modelo_nombre}\")\n",
    "    plt.tight_layout()\n",
    "\n",
    "    if save_path is None:\n",
    "        modelo_safe = modelo_nombre.replace(\" \", \"_\").replace(\"/\", \"_\")\n",
    "        save_path = f\"confusion_matrix_{modelo_safe}.png\"\n",
    "\n",
    "    plt.savefig(save_path, dpi=300, bbox_inches=\"tight\")\n",
    "    print(f\"Matriz de confusión guardada en: {save_path}\")\n",
    "\n",
    "    plt.close(fig)\n",
    "\n",
    "    return cm\n",
    "\n",
    "\n",
    "def evaluar_modelos(\n",
    "    X_train, y_train, X_test, y_test, mostrar_matrices=True, save_dir=\"resultados\"\n",
    "):\n",
    "    modelos = {\n",
    "        \"SVM\": SVC(kernel=\"rbf\", class_weight=\"balanced\", random_state=42),\n",
    "        \"Random Forest\": RandomForestClassifier(\n",
    "            n_estimators=200, class_weight=\"balanced\", random_state=42\n",
    "        ),\n",
    "        \"KNN\": KNeighborsClassifier(n_neighbors=5),\n",
    "    }\n",
    "\n",
    "    class_names = [\n",
    "        \"T-shirt\",\n",
    "        \"Trouser\",\n",
    "        \"Pullover\",\n",
    "        \"Dress\",\n",
    "        \"Coat\",\n",
    "        \"Sandal\",\n",
    "        \"Shirt\",\n",
    "        \"Sneaker\",\n",
    "        \"Bag\",\n",
    "        \"Ankle boot\",\n",
    "    ]\n",
    "\n",
    "    if mostrar_matrices:\n",
    "        os.makedirs(save_dir, exist_ok=True)\n",
    "\n",
    "    resultados = []\n",
    "\n",
    "    for nombre, modelo in modelos.items():\n",
    "        print(f\"\\nEntrenando {nombre}...\")\n",
    "        modelo.fit(X_train, y_train)\n",
    "        y_pred = modelo.predict(X_test)\n",
    "\n",
    "        resultados.append(\n",
    "            {\n",
    "                \"Modelo\": nombre,\n",
    "                \"Accuracy\": accuracy_score(y_test, y_pred),\n",
    "                \"Precision\": precision_score(\n",
    "                    y_test, y_pred, average=\"weighted\", zero_division=0\n",
    "                ),\n",
    "                \"Recall\": recall_score(\n",
    "                    y_test, y_pred, average=\"weighted\", zero_division=0\n",
    "                ),\n",
    "                \"F1-Score\": f1_score(\n",
    "                    y_test, y_pred, average=\"weighted\", zero_division=0\n",
    "                ),\n",
    "            }\n",
    "        )\n",
    "\n",
    "        if mostrar_matrices:\n",
    "            modelo_safe = nombre.replace(\" \", \"_\")\n",
    "            save_path = os.path.join(save_dir, f\"confusion_{modelo_safe}.png\")\n",
    "            generar_matriz_confusion(y_test, y_pred, nombre, class_names, save_path)\n",
    "\n",
    "    return pd.DataFrame(resultados)"
   ]
  },
  {
   "cell_type": "markdown",
   "metadata": {},
   "source": [
    "## 8. Cargar Datos"
   ]
  },
  {
   "cell_type": "code",
   "execution_count": null,
   "metadata": {},
   "outputs": [],
   "source": [
    "train_X, test_X, train_Y, test_Y = cargar_datos_locales(\n",
    "    \"train_X\", \"test_X\", \"train_Y\", \"test_Y\"\n",
    ")\n",
    "\n",
    "print(\"Data train original: \", train_X.shape)\n",
    "print(\"Label train original: \", train_Y.shape)\n",
    "print(\"Data test original: \", test_X.shape)\n",
    "print(\"Label test original: \", test_Y.shape)"
   ]
  },
  {
   "cell_type": "markdown",
   "metadata": {},
   "source": [
    "## 9. Preprocesamiento - Normalización"
   ]
  },
  {
   "cell_type": "code",
   "execution_count": null,
   "metadata": {},
   "outputs": [],
   "source": [
    "train_X_norm, scaler = normalize_train(train_X)\n",
    "test_X_norm = normalize_test(test_X, scaler)"
   ]
  },
  {
   "cell_type": "markdown",
   "metadata": {},
   "source": [
    "## 10. Definir Nombres de Clases"
   ]
  },
  {
   "cell_type": "code",
   "execution_count": null,
   "metadata": {},
   "outputs": [],
   "source": [
    "class_names_dict = {\n",
    "    0: \"T-shirt/top\",\n",
    "    1: \"Trouser\",\n",
    "    2: \"Pullover\",\n",
    "    3: \"Dress\",\n",
    "    4: \"Coat\",\n",
    "    5: \"Sandal\",\n",
    "    6: \"Shirt\",\n",
    "    7: \"Sneaker\",\n",
    "    8: \"Bag\",\n",
    "    9: \"Ankle boot\",\n",
    "}"
   ]
  },
  {
   "cell_type": "markdown",
   "metadata": {},
   "source": [
    "## 11. Spectral Embedding (2D para visualización) - OPCIONAL\n",
    "\n",
    "Descomentar esta celda si deseas visualizar el embedding en 2D:"
   ]
  },
  {
   "cell_type": "code",
   "execution_count": null,
   "metadata": {},
   "outputs": [],
   "source": [
    "n_viz = min(60000, len(train_X_norm))\n",
    "viz_indices = np.random.choice(len(train_X_norm), n_viz, replace=False)\n",
    "X_viz = train_X_norm[viz_indices]\n",
    "y_viz = train_Y[\"label\"].values[viz_indices]\n",
    "\n",
    "se_2d = SpectralEmbeddingTransformer(\n",
    "    n_components=2, n_neighbors=10, affinity=\"nearest_neighbors\", random_state=42\n",
    ")\n",
    "X_spectral_2d = se_2d.fit_transform(X_viz)\n",
    "\n",
    "visualizar_reduccion_2d(\n",
    "    X_spectral_2d,\n",
    "    y_viz,\n",
    "    \"Spectral Embedding\",\n",
    "    class_names_dict,\n",
    ")"
   ]
  },
  {
   "cell_type": "markdown",
   "metadata": {},
   "source": [
    "## 12. Spectral Embedding (250 componentes para clasificación)"
   ]
  },
  {
   "cell_type": "code",
   "execution_count": null,
   "metadata": {},
   "outputs": [],
   "source": [
    "n_components_clf = 250\n",
    "n_train_samples = min(60000, len(train_X_norm))\n",
    "\n",
    "train_indices = np.random.choice(len(train_X_norm), n_train_samples, replace=False)\n",
    "X_train_sample = train_X_norm[train_indices]\n",
    "\n",
    "se_clf = SpectralEmbeddingTransformer(\n",
    "    n_components=n_components_clf,\n",
    "    n_neighbors=15,\n",
    "    affinity=\"nearest_neighbors\",\n",
    "    random_state=42,\n",
    ")\n",
    "\n",
    "train_X_spectral_sample = se_clf.fit_transform(X_train_sample)"
   ]
  },
  {
   "cell_type": "markdown",
   "metadata": {},
   "source": [
    "## 13. Transformar Todos los Datos"
   ]
  },
  {
   "cell_type": "code",
   "execution_count": null,
   "metadata": {},
   "outputs": [],
   "source": [
    "train_X_spectral = se_clf.transform(train_X_norm)\n",
    "test_X_spectral = se_clf.transform(test_X_norm)"
   ]
  },
  {
   "cell_type": "markdown",
   "metadata": {},
   "source": [
    "## 14. Entrenamiento y Evaluación de Modelos"
   ]
  },
  {
   "cell_type": "code",
   "execution_count": null,
   "metadata": {},
   "outputs": [],
   "source": [
    "resultados_spectral = evaluar_modelos(\n",
    "    train_X_spectral,\n",
    "    train_Y[\"label\"].values,\n",
    "    test_X_spectral,\n",
    "    test_Y[\"label\"].values,\n",
    "    mostrar_matrices=True,\n",
    "    save_dir=\"resultados_spectral\",\n",
    ")\n",
    "\n",
    "print(resultados_spectral.to_string(index=False))"
   ]
  }
 ],
 "metadata": {
  "kernelspec": {
   "display_name": "Python 3",
   "language": "python",
   "name": "python3"
  },
  "language_info": {
   "codemirror_mode": {
    "name": "ipython",
    "version": 3
   },
   "file_extension": ".py",
   "mimetype": "text/x-python",
   "name": "python",
   "nbconvert_exporter": "python",
   "pygments_lexer": "ipython3",
   "version": "3.8.0"
  }
 },
 "nbformat": 4,
 "nbformat_minor": 4
}
